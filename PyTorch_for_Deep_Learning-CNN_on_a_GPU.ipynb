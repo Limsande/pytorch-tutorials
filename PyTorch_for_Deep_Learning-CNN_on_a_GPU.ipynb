{
 "cells": [
  {
   "cell_type": "markdown",
   "id": "split-withdrawal",
   "metadata": {},
   "source": [
    "# PyTorch for Deep Learning - Training Convolutional Neural Networks on a GPU\n",
    "\n",
    "[YouTube-Video von freeCodeCamp.org](https://youtu.be/GIsg-ZUy0MY)\n",
    "\n",
    "Das Notebook ist auf [Kaggle](https://www.kaggle.com/limsande/pytorch-for-deep-learning-training-cnns-on-a-gpu)."
   ]
  }
 ],
 "metadata": {
  "kernelspec": {
   "display_name": "Python 3",
   "language": "python",
   "name": "python3"
  },
  "language_info": {
   "codemirror_mode": {
    "name": "ipython",
    "version": 3
   },
   "file_extension": ".py",
   "mimetype": "text/x-python",
   "name": "python",
   "nbconvert_exporter": "python",
   "pygments_lexer": "ipython3",
   "version": "3.8.8"
  },
  "toc-autonumbering": false,
  "toc-showcode": false
 },
 "nbformat": 4,
 "nbformat_minor": 5
}
