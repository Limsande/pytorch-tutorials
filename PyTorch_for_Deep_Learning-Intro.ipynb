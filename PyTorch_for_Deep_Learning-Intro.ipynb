{
 "cells": [
  {
   "cell_type": "markdown",
   "id": "forced-andorra",
   "metadata": {},
   "source": [
    "# PyTorch for Deep Learning - Intro\n",
    "\n",
    "[YouTube-Video von freeCodeCamp.org](https://youtu.be/GIsg-ZUy0MY)"
   ]
  },
  {
   "cell_type": "markdown",
   "id": "skilled-leave",
   "metadata": {},
   "source": [
    "## Tensor\n",
    "[Tensor](https://pytorch.org/docs/stable/tensors) ist die zentrale Datenstruktur von PyTorch. Ein Tensor ist ein multidimensionales Array:\n",
    "* 1D: Skalar, `torch.tensor(4)`\n",
    "* 2D, 1xM: Vektor, `torch.tensor([1, 2, 3])`\n",
    "* 2D, NxM: Matrix, `torch.tensor([[1, 2], [3, 4]])`\n",
    "* 3D: multidimensionale Matrix, `torch.tensor([[[1, 2], [3, 4]], [[5, 6], [7, 8]]])`\n",
    "* ..."
   ]
  },
  {
   "cell_type": "code",
   "execution_count": 11,
   "id": "romantic-influence",
   "metadata": {},
   "outputs": [],
   "source": [
    "import torch\n",
    "from torch import tensor"
   ]
  },
  {
   "cell_type": "code",
   "execution_count": 2,
   "id": "atlantic-circumstances",
   "metadata": {},
   "outputs": [
    {
     "data": {
      "text/plain": [
       "tensor(4)"
      ]
     },
     "execution_count": 2,
     "metadata": {},
     "output_type": "execute_result"
    }
   ],
   "source": [
    "# Skalar\n",
    "tensor(4)"
   ]
  },
  {
   "cell_type": "code",
   "execution_count": 3,
   "id": "controlling-walter",
   "metadata": {},
   "outputs": [
    {
     "data": {
      "text/plain": [
       "tensor([1, 2, 3])"
      ]
     },
     "execution_count": 3,
     "metadata": {},
     "output_type": "execute_result"
    }
   ],
   "source": [
    "# Vektor\n",
    "tensor([1, 2, 3])"
   ]
  },
  {
   "cell_type": "code",
   "execution_count": 4,
   "id": "polyphonic-format",
   "metadata": {},
   "outputs": [
    {
     "data": {
      "text/plain": [
       "tensor([[1, 2],\n",
       "        [3, 4]])"
      ]
     },
     "execution_count": 4,
     "metadata": {},
     "output_type": "execute_result"
    }
   ],
   "source": [
    "# NxM-Matrix\n",
    "tensor([[1, 2], [3, 4]])"
   ]
  },
  {
   "cell_type": "code",
   "execution_count": 5,
   "id": "dutch-snake",
   "metadata": {},
   "outputs": [
    {
     "data": {
      "text/plain": [
       "tensor([[[1, 2],\n",
       "         [3, 4]],\n",
       "\n",
       "        [[5, 6],\n",
       "         [7, 8]]])"
      ]
     },
     "execution_count": 5,
     "metadata": {},
     "output_type": "execute_result"
    }
   ],
   "source": [
    "# NxMxD-Matrix\n",
    "tensor(\n",
    "    [\n",
    "        [[1, 2],\n",
    "         [3, 4]],\n",
    "        [[5, 6],\n",
    "         [7, 8]]\n",
    "    ]\n",
    ")"
   ]
  },
  {
   "cell_type": "code",
   "execution_count": 6,
   "id": "pointed-seventh",
   "metadata": {},
   "outputs": [
    {
     "data": {
      "text/plain": [
       "tensor([[[[1, 2],\n",
       "          [3, 4]],\n",
       "\n",
       "         [[5, 6],\n",
       "          [7, 8]]],\n",
       "\n",
       "\n",
       "        [[[1, 2],\n",
       "          [3, 4]],\n",
       "\n",
       "         [[5, 6],\n",
       "          [7, 8]]]])"
      ]
     },
     "execution_count": 6,
     "metadata": {},
     "output_type": "execute_result"
    }
   ],
   "source": [
    "# etc.\n",
    "torch.tensor([[[[1, 2], [3, 4]], [[5, 6], [7, 8]]], [[[1, 2], [3, 4]], [[5, 6], [7, 8]]]])"
   ]
  },
  {
   "cell_type": "markdown",
   "id": "forbidden-revision",
   "metadata": {},
   "source": [
    "## PyTorch und NumPy\n",
    "Tensoren teilen einige Features mit NumPy Arrays:"
   ]
  },
  {
   "cell_type": "code",
   "execution_count": 7,
   "id": "whole-bunch",
   "metadata": {},
   "outputs": [
    {
     "data": {
      "text/plain": [
       "(torch.int64, torch.Size([2, 2]))"
      ]
     },
     "execution_count": 7,
     "metadata": {},
     "output_type": "execute_result"
    }
   ],
   "source": [
    "(tensor(4).dtype, tensor([[1, 2], [3, 4]]).shape)"
   ]
  },
  {
   "cell_type": "markdown",
   "id": "smart-asbestos",
   "metadata": {},
   "source": [
    "Auch arithmetische Operationen sind möglich:"
   ]
  },
  {
   "cell_type": "code",
   "execution_count": 8,
   "id": "domestic-technique",
   "metadata": {},
   "outputs": [
    {
     "data": {
      "text/plain": [
       "tensor([[4, 4],\n",
       "        [5, 5]])"
      ]
     },
     "execution_count": 8,
     "metadata": {},
     "output_type": "execute_result"
    }
   ],
   "source": [
    "tensor([[2, 2], [3, 3]]) + tensor([[2, 2], [2, 2]])"
   ]
  },
  {
   "cell_type": "markdown",
   "id": "composed-healthcare",
   "metadata": {},
   "source": [
    "Tensoren können aus NumPy Arrays erzeugt werden:"
   ]
  },
  {
   "cell_type": "code",
   "execution_count": 9,
   "id": "intense-spanish",
   "metadata": {},
   "outputs": [],
   "source": [
    "import numpy as np\n",
    "a = np.array([[1, 2], [3, 4]])"
   ]
  },
  {
   "cell_type": "code",
   "execution_count": 10,
   "id": "significant-authority",
   "metadata": {},
   "outputs": [
    {
     "data": {
      "text/plain": [
       "tensor([[1, 2],\n",
       "        [3, 4]])"
      ]
     },
     "execution_count": 10,
     "metadata": {},
     "output_type": "execute_result"
    }
   ],
   "source": [
    "# erstellt Kopie vom Array\n",
    "tensor(a)"
   ]
  },
  {
   "cell_type": "code",
   "execution_count": 11,
   "id": "herbal-shirt",
   "metadata": {},
   "outputs": [
    {
     "data": {
      "text/plain": [
       "tensor([[1, 2],\n",
       "        [3, 4]])"
      ]
     },
     "execution_count": 11,
     "metadata": {},
     "output_type": "execute_result"
    }
   ],
   "source": [
    "# erstellt keine Kopie\n",
    "torch.from_numpy(a)"
   ]
  },
  {
   "cell_type": "markdown",
   "id": "quick-allen",
   "metadata": {},
   "source": [
    "Tensoren können in NumPy Arrays umgewandelt werden:"
   ]
  },
  {
   "cell_type": "code",
   "execution_count": 12,
   "id": "beneficial-corner",
   "metadata": {},
   "outputs": [
    {
     "data": {
      "text/plain": [
       "array(4)"
      ]
     },
     "execution_count": 12,
     "metadata": {},
     "output_type": "execute_result"
    }
   ],
   "source": [
    "tensor(4).numpy()"
   ]
  },
  {
   "cell_type": "markdown",
   "id": "composed-september",
   "metadata": {},
   "source": [
    "## Bilder als Tensor\n",
    "Rasterbilder und Tensoren können problemlos ineinander umgewandelt werden:"
   ]
  },
  {
   "cell_type": "code",
   "execution_count": 14,
   "id": "pressing-occurrence",
   "metadata": {},
   "outputs": [
    {
     "name": "stdout",
     "output_type": "stream",
     "text": [
      "img.shape: (256, 256, 4)\n",
      "t.shape: torch.Size([256, 256, 4])\n"
     ]
    },
    {
     "data": {
      "text/plain": [
       "<matplotlib.image.AxesImage at 0x7f4f9d6da220>"
      ]
     },
     "execution_count": 14,
     "metadata": {},
     "output_type": "execute_result"
    },
    {
     "data": {
      "image/png": "[encoded data removed]",
      "text/plain": [
       "<Figure size 432x288 with 2 Axes>"
      ]
     },
     "metadata": {
      "needs_background": "light"
     },
     "output_type": "display_data"
    }
   ],
   "source": [
    "from PIL import Image\n",
    "import matplotlib.pyplot as plt\n",
    "\n",
    "img = np.array(Image.open('test.png'))\n",
    "t = torch.from_numpy(img)\n",
    "print('img.shape:', img.shape)\n",
    "print('t.shape:', t.shape)\n",
    "\n",
    "fig, axs = plt.subplots(1, 2)\n",
    "axs[0].imshow(img)\n",
    "axs[1].imshow(t)"
   ]
  },
  {
   "cell_type": "markdown",
   "id": "engaging-sponsorship",
   "metadata": {},
   "source": [
    "**VORSICHT**: Bibliotheken wie matplotlib gehen davon aus, dass Bilder in der Form `Höhe x Breite x Kanäle` gespeichert sind. PyTorch arbeitet aber mit `Kanäle x Höhe x Breite`. Um also Bilder als Tensoren in PyTorch zu benutzen, müssen die Dimensionen mit `permute` vertauscht werden:"
   ]
  },
  {
   "cell_type": "code",
   "execution_count": 18,
   "id": "average-burden",
   "metadata": {},
   "outputs": [
    {
     "data": {
      "text/plain": [
       "torch.Size([4, 256, 256])"
      ]
     },
     "execution_count": 18,
     "metadata": {},
     "output_type": "execute_result"
    }
   ],
   "source": [
    "t_neu = t.permute(2, 0, 1)\n",
    "t_neu.shape"
   ]
  },
  {
   "cell_type": "markdown",
   "id": "alive-pontiac",
   "metadata": {},
   "source": [
    "## Ein Beispiel: Lineare Regression\n",
    "\n",
    "| Region | Temp. (° c) | Niederschl. (mm) | Luftfeuchte (%) | Äpfel (t/ha) | Orangen (t/ha) |\n",
    "|--------|:-----------:|:----------------:|:---------------:|:------------:|:--------------:|\n",
    "| Kanto  |      22     |        67        |        43       |      56      |       70       |\n",
    "| Johto  |      32     |        88        |        64       |      81      |       101      |\n",
    "| Hoenn  |      30     |        134       |        58       |      119     |       133      |\n",
    "| Sinnoh |      38     |        43        |        37       |      22      |       37       |\n",
    "| Unova  |      20     |        96        |        70       |      103     |       119      |\n",
    "\n",
    "    apples = w11 * T + w12 * N + w13 * LF + b1\n",
    "\n",
    "    oranges = w21 * T + w22 * N + w32 * LF + b2\n",
    "    \n",
    "    X * W^T + b"
   ]
  },
  {
   "cell_type": "code",
   "execution_count": 13,
   "id": "mathematical-leave",
   "metadata": {},
   "outputs": [],
   "source": [
    "input = tensor([[22, 67, 43],\n",
    "                [32, 88, 64],\n",
    "                [30, 134, 58],\n",
    "                [38, 43, 37],\n",
    "                [20, 96, 70]], dtype=torch.float32)\n",
    "\n",
    "target = tensor([[56, 70],\n",
    "                 [81, 101],\n",
    "                 [119, 133],\n",
    "                 [22, 37],\n",
    "                 [103, 119]], dtype=torch.float32)"
   ]
  },
  {
   "cell_type": "markdown",
   "id": "single-outreach",
   "metadata": {},
   "source": [
    "Die Gewichte `wij` und die Bias-Terme `bi` werden zufällig initialisiert. `torch.randn` liefert einen Tensor mit standardnormalverteilten Zufallszahlen:"
   ]
  },
  {
   "cell_type": "code",
   "execution_count": 14,
   "id": "behavioral-effects",
   "metadata": {},
   "outputs": [],
   "source": [
    "w = torch.randn(2, 3, requires_grad=True)\n",
    "b = torch.randn(2, requires_grad=True)"
   ]
  },
  {
   "cell_type": "markdown",
   "id": "dramatic-federal",
   "metadata": {},
   "source": [
    "`requires_grad` kontrolliert, ob Änderungen am Tensor aufgezeichnet werden sollen, um Berechnung des Gradienten zu ermöglichen.\n",
    "\n",
    "Damit können wir ein Modell bauen:"
   ]
  },
  {
   "cell_type": "code",
   "execution_count": 15,
   "id": "fatal-array",
   "metadata": {},
   "outputs": [
    {
     "data": {
      "text/plain": [
       "tensor([[ 7.9038e+01,  7.3163e-02],\n",
       "        [ 1.1122e+02,  9.6434e+00],\n",
       "        [ 1.2557e+02, -3.5306e+01],\n",
       "        [ 6.5939e+01,  1.3160e+01],\n",
       "        [ 1.1802e+02,  9.8146e+00]], grad_fn=<AddBackward0>)"
      ]
     },
     "execution_count": 15,
     "metadata": {},
     "output_type": "execute_result"
    }
   ],
   "source": [
    " def model(x):\n",
    "    # @: Matrixmultiplikation\n",
    "    return x @ w.t() + b\n",
    "\n",
    "prediction = model(input)\n",
    "prediction"
   ]
  },
  {
   "cell_type": "markdown",
   "id": "protected-hydrogen",
   "metadata": {},
   "source": [
    "Zum Optimieren brauchen wir eine Loss-Funktion wie z. B. MSE:"
   ]
  },
  {
   "cell_type": "code",
   "execution_count": 16,
   "id": "closing-cause",
   "metadata": {},
   "outputs": [
    {
     "data": {
      "text/plain": [
       "tensor(5769.5527, grad_fn=<SumBackward0>)"
      ]
     },
     "execution_count": 16,
     "metadata": {},
     "output_type": "execute_result"
    }
   ],
   "source": [
    "def mse(prediction, target):\n",
    "    diff = prediction - target\n",
    "    # numel is total number of elements\n",
    "    return torch.sum(diff * diff / diff.numel())\n",
    "\n",
    "loss_initial = mse(prediction, target)\n",
    "loss_initial"
   ]
  },
  {
   "cell_type": "markdown",
   "id": "listed-return",
   "metadata": {},
   "source": [
    "Da die Gewichte und Bias-Terme `requires_grad` aktiviert haben, kann PyTorch automatisch den Gradienten der Loss-Funktion bestimmen. Die einzelnen Werte werden im Attribut `.grad` des jeweiligen Tensors gespeichert:"
   ]
  },
  {
   "cell_type": "code",
   "execution_count": 17,
   "id": "composite-delta",
   "metadata": {},
   "outputs": [
    {
     "name": "stdout",
     "output_type": "stream",
     "text": [
      "tensor([[  728.2032,  1682.9070,  1196.5468],\n",
      "        [-2520.1179, -9356.8672, -5428.0898]])\n",
      "tensor([ 23.7569, -92.5228])\n"
     ]
    }
   ],
   "source": [
    "loss_initial.backward()\n",
    "\n",
    "print(w.grad)\n",
    "print(b.grad)"
   ]
  },
  {
   "cell_type": "markdown",
   "id": "knowing-mailing",
   "metadata": {},
   "source": [
    "Damit können die Gewichte und Bias-Terme gemäß dem Gradientenabstieg akutalisiert werden. `torch.no_grad()` signalisiert, dass die folgenden Operationen nicht für die nächste Gradientenberechnung aufgezeichnet werden sollen:"
   ]
  },
  {
   "cell_type": "code",
   "execution_count": 18,
   "id": "becoming-sharp",
   "metadata": {},
   "outputs": [],
   "source": [
    "with torch.no_grad():\n",
    "    w -= w.grad * 1e-5\n",
    "    b -= b.grad * 1e-5\n",
    "    # Gradienten zurücksetzen (Werte werden sonst akkumuliert)\n",
    "    w.grad.zero_()\n",
    "    b.grad.zero_()"
   ]
  },
  {
   "cell_type": "markdown",
   "id": "careful-pantyhose",
   "metadata": {},
   "source": [
    "Mit den aktualisierten Parametern können neue Vorhersagen berechnet werden. Der Loss ist im Vergleich zu den ersten Vorhersagen bereits verringert:"
   ]
  },
  {
   "cell_type": "code",
   "execution_count": 19,
   "id": "selective-improvement",
   "metadata": {},
   "outputs": [
    {
     "data": {
      "text/plain": [
       "(tensor(5769.5527, grad_fn=<SumBackward0>),\n",
       " tensor(4564.3179, grad_fn=<SumBackward0>))"
      ]
     },
     "execution_count": 19,
     "metadata": {},
     "output_type": "execute_result"
    }
   ],
   "source": [
    "prediction = model(input)\n",
    "loss = mse(prediction, target)\n",
    "(loss_initial, loss)"
   ]
  },
  {
   "cell_type": "markdown",
   "id": "modified-advertising",
   "metadata": {},
   "source": [
    "Jetzt kann alles zusammengefügt und in z. B. 1000 Epochen wiederholt werden:"
   ]
  },
  {
   "cell_type": "code",
   "execution_count": 25,
   "id": "stretch-shower",
   "metadata": {},
   "outputs": [
    {
     "name": "stdout",
     "output_type": "stream",
     "text": [
      "Loss after 0 epochs: 17579.1953125\n",
      "Loss after 100 epochs: 323.1888427734375\n",
      "Loss after 200 epochs: 227.06295776367188\n",
      "Loss after 300 epochs: 160.89779663085938\n",
      "Loss after 400 epochs: 115.18598937988281\n",
      "Loss after 500 epochs: 83.46249389648438\n",
      "Loss after 600 epochs: 61.327552795410156\n",
      "Loss after 700 epochs: 45.783119201660156\n",
      "Loss after 800 epochs: 34.784183502197266\n",
      "Loss after 900 epochs: 26.933162689208984\n"
     ]
    }
   ],
   "source": [
    "# Modell zurücksetzen\n",
    "w = torch.randn(2, 3, requires_grad=True)\n",
    "b = torch.randn(2, requires_grad=True)\n",
    "\n",
    "for i in range(1000):\n",
    "    prediction = model(input)\n",
    "    loss = mse(prediction, target)\n",
    "    loss.backward()\n",
    "    with torch.no_grad():\n",
    "        w -= w.grad * 1e-5\n",
    "        b -= b.grad * 1e-5\n",
    "        w.grad.zero_()\n",
    "        b.grad.zero_()\n",
    "    if i % 100 == 0:\n",
    "        print(f'Loss after {i} epochs: {loss}')\n",
    "\n",
    "print(prediction)\n",
    "print(target)"
   ]
  }
 ],
 "metadata": {
  "kernelspec": {
   "display_name": "Python 3",
   "language": "python",
   "name": "python3"
  },
  "language_info": {
   "codemirror_mode": {
    "name": "ipython",
    "version": 3
   },
   "file_extension": ".py",
   "mimetype": "text/x-python",
   "name": "python",
   "nbconvert_exporter": "python",
   "pygments_lexer": "ipython3",
   "version": "3.8.8"
  },
  "toc-showmarkdowntxt": false
 },
 "nbformat": 4,
 "nbformat_minor": 5
}
